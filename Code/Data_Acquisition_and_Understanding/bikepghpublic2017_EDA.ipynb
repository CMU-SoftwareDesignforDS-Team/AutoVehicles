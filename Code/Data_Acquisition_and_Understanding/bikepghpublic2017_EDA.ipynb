{
 "cells": [
  {
   "attachments": {},
   "cell_type": "markdown",
   "metadata": {},
   "source": [
    "Import Libraries and dataset for EDA on bikepghpublic2017"
   ]
  },
  {
   "cell_type": "code",
   "execution_count": 1,
   "metadata": {},
   "outputs": [],
   "source": [
    "import pandas as pd\n",
    "import matplotlib.pyplot as plt\n",
    "import scipy.stats as stats"
   ]
  },
  {
   "cell_type": "code",
   "execution_count": 2,
   "metadata": {},
   "outputs": [],
   "source": [
    "# File path of the Excel file\n",
    "file_path = r\"/Users/mattmcmon/Library/CloudStorage/GoogleDrive-mmcmon1990@gmail.com/My Drive/CMU/Software Design for Data Scientists/bikepghpublic2017.csv\" #mac\n",
    "#file_path = r\"C:\\Users\\Matt\\Google Drive\\CMU\\Software Design for Data Scientists\\bikepghpublic2017.csv\" #windows"
   ]
  },
  {
   "cell_type": "code",
   "execution_count": 3,
   "metadata": {},
   "outputs": [],
   "source": [
    "# Load the Excel file into a DataFrame\n",
    "bikepghpublic2017 = pd.read_csv(file_path)"
   ]
  },
  {
   "attachments": {},
   "cell_type": "markdown",
   "metadata": {},
   "source": [
    "Display sample of dataset"
   ]
  },
  {
   "cell_type": "code",
   "execution_count": 4,
   "metadata": {},
   "outputs": [
    {
     "data": {
      "text/html": [
       "<div>\n",
       "<style scoped>\n",
       "    .dataframe tbody tr th:only-of-type {\n",
       "        vertical-align: middle;\n",
       "    }\n",
       "\n",
       "    .dataframe tbody tr th {\n",
       "        vertical-align: top;\n",
       "    }\n",
       "\n",
       "    .dataframe thead th {\n",
       "        text-align: right;\n",
       "    }\n",
       "</style>\n",
       "<table border=\"1\" class=\"dataframe\">\n",
       "  <thead>\n",
       "    <tr style=\"text-align: right;\">\n",
       "      <th></th>\n",
       "      <th>Response ID</th>\n",
       "      <th>Start Date</th>\n",
       "      <th>End Date</th>\n",
       "      <th>Status</th>\n",
       "      <th>Source Type</th>\n",
       "      <th>InteractPedestrian</th>\n",
       "      <th>InteractBicycle</th>\n",
       "      <th>CircumstancesCoded</th>\n",
       "      <th>FeelingsProvingGround</th>\n",
       "      <th>SafetyHuman</th>\n",
       "      <th>...</th>\n",
       "      <th>AVSafetyPotential</th>\n",
       "      <th>RegulationTesting</th>\n",
       "      <th>RegulationSpeed</th>\n",
       "      <th>RegulationSchoolZone</th>\n",
       "      <th>RegulationShareData</th>\n",
       "      <th>AdvocacyIssues</th>\n",
       "      <th>BikePghPosition</th>\n",
       "      <th>PayingAttentionAV</th>\n",
       "      <th>FamiliarityTechnoology</th>\n",
       "      <th>ZipCode</th>\n",
       "    </tr>\n",
       "  </thead>\n",
       "  <tbody>\n",
       "    <tr>\n",
       "      <th>0</th>\n",
       "      <td>260279884</td>\n",
       "      <td>02/22/2017 10:38:27 AM PST</td>\n",
       "      <td>02/22/2017 10:46:22 AM PST</td>\n",
       "      <td>COMPLETE</td>\n",
       "      <td>Survey Link</td>\n",
       "      <td>No</td>\n",
       "      <td>Yes</td>\n",
       "      <td>9.0</td>\n",
       "      <td>Approve</td>\n",
       "      <td>2</td>\n",
       "      <td>...</td>\n",
       "      <td>Yes</td>\n",
       "      <td>Yes</td>\n",
       "      <td>Not sure</td>\n",
       "      <td>Not sure</td>\n",
       "      <td>Yes</td>\n",
       "      <td>Disagree</td>\n",
       "      <td>Neither Support nor Oppose</td>\n",
       "      <td>To some extent</td>\n",
       "      <td>Mostly Unfamiliar</td>\n",
       "      <td>15203.0</td>\n",
       "    </tr>\n",
       "    <tr>\n",
       "      <th>1</th>\n",
       "      <td>260293425</td>\n",
       "      <td>02/22/2017 5:59:59 PM PST</td>\n",
       "      <td>02/22/2017 6:04:04 PM PST</td>\n",
       "      <td>COMPLETE</td>\n",
       "      <td>Survey Link</td>\n",
       "      <td>Yes</td>\n",
       "      <td>Yes</td>\n",
       "      <td>9.0</td>\n",
       "      <td>Disapprove</td>\n",
       "      <td>2</td>\n",
       "      <td>...</td>\n",
       "      <td>No</td>\n",
       "      <td>No</td>\n",
       "      <td>No</td>\n",
       "      <td>No</td>\n",
       "      <td>No</td>\n",
       "      <td>Neutral</td>\n",
       "      <td>Actively Oppose</td>\n",
       "      <td>To a moderate extent</td>\n",
       "      <td>Somewhat familiar</td>\n",
       "      <td>15201.0</td>\n",
       "    </tr>\n",
       "    <tr>\n",
       "      <th>2</th>\n",
       "      <td>260293589</td>\n",
       "      <td>02/22/2017 6:06:17 PM PST</td>\n",
       "      <td>02/22/2017 6:15:05 PM PST</td>\n",
       "      <td>COMPLETE</td>\n",
       "      <td>Survey Link</td>\n",
       "      <td>No</td>\n",
       "      <td>Yes</td>\n",
       "      <td>9.0</td>\n",
       "      <td>Disapprove</td>\n",
       "      <td>2</td>\n",
       "      <td>...</td>\n",
       "      <td>Not sure</td>\n",
       "      <td>Yes</td>\n",
       "      <td>Not sure</td>\n",
       "      <td>Yes</td>\n",
       "      <td>Not sure</td>\n",
       "      <td>Neutral</td>\n",
       "      <td>Neither Support nor Oppose</td>\n",
       "      <td>To little extent</td>\n",
       "      <td>Somewhat familiar</td>\n",
       "      <td>15222.0</td>\n",
       "    </tr>\n",
       "    <tr>\n",
       "      <th>3</th>\n",
       "      <td>260299834</td>\n",
       "      <td>02/22/2017 10:56:42 PM PST</td>\n",
       "      <td>02/22/2017 11:03:27 PM PST</td>\n",
       "      <td>COMPLETE</td>\n",
       "      <td>Survey Link</td>\n",
       "      <td>No</td>\n",
       "      <td>No</td>\n",
       "      <td>9.0</td>\n",
       "      <td>Neutral</td>\n",
       "      <td>2</td>\n",
       "      <td>...</td>\n",
       "      <td>Yes</td>\n",
       "      <td>Yes</td>\n",
       "      <td>Yes</td>\n",
       "      <td>No</td>\n",
       "      <td>Yes</td>\n",
       "      <td>Disagree</td>\n",
       "      <td>Neither Support nor Oppose</td>\n",
       "      <td>To a moderate extent</td>\n",
       "      <td>Somewhat familiar</td>\n",
       "      <td>15106.0</td>\n",
       "    </tr>\n",
       "    <tr>\n",
       "      <th>4</th>\n",
       "      <td>260335956</td>\n",
       "      <td>02/23/2017 11:20:08 AM PST</td>\n",
       "      <td>02/23/2017 11:22:05 AM PST</td>\n",
       "      <td>COMPLETE</td>\n",
       "      <td>Survey Link</td>\n",
       "      <td>No</td>\n",
       "      <td>Yes</td>\n",
       "      <td>9.0</td>\n",
       "      <td>Somewhat Approve</td>\n",
       "      <td>4</td>\n",
       "      <td>...</td>\n",
       "      <td>Maybe</td>\n",
       "      <td>Yes</td>\n",
       "      <td>Yes</td>\n",
       "      <td>No</td>\n",
       "      <td>Not sure</td>\n",
       "      <td>Disagree</td>\n",
       "      <td>Actively Support</td>\n",
       "      <td>To little extent</td>\n",
       "      <td>Mostly Unfamiliar</td>\n",
       "      <td>15202.0</td>\n",
       "    </tr>\n",
       "  </tbody>\n",
       "</table>\n",
       "<p>5 rows × 21 columns</p>\n",
       "</div>"
      ],
      "text/plain": [
       "   Response ID                  Start Date                    End Date  \\\n",
       "0    260279884  02/22/2017 10:38:27 AM PST  02/22/2017 10:46:22 AM PST   \n",
       "1    260293425   02/22/2017 5:59:59 PM PST   02/22/2017 6:04:04 PM PST   \n",
       "2    260293589   02/22/2017 6:06:17 PM PST   02/22/2017 6:15:05 PM PST   \n",
       "3    260299834  02/22/2017 10:56:42 PM PST  02/22/2017 11:03:27 PM PST   \n",
       "4    260335956  02/23/2017 11:20:08 AM PST  02/23/2017 11:22:05 AM PST   \n",
       "\n",
       "     Status  Source Type InteractPedestrian InteractBicycle  \\\n",
       "0  COMPLETE  Survey Link                 No             Yes   \n",
       "1  COMPLETE  Survey Link                Yes             Yes   \n",
       "2  COMPLETE  Survey Link                 No             Yes   \n",
       "3  COMPLETE  Survey Link                 No              No   \n",
       "4  COMPLETE  Survey Link                 No             Yes   \n",
       "\n",
       "   CircumstancesCoded FeelingsProvingGround SafetyHuman  ...  \\\n",
       "0                 9.0               Approve           2  ...   \n",
       "1                 9.0            Disapprove           2  ...   \n",
       "2                 9.0            Disapprove           2  ...   \n",
       "3                 9.0               Neutral           2  ...   \n",
       "4                 9.0      Somewhat Approve           4  ...   \n",
       "\n",
       "  AVSafetyPotential RegulationTesting RegulationSpeed RegulationSchoolZone  \\\n",
       "0               Yes               Yes        Not sure             Not sure   \n",
       "1                No                No              No                   No   \n",
       "2          Not sure               Yes        Not sure                  Yes   \n",
       "3               Yes               Yes             Yes                   No   \n",
       "4             Maybe               Yes             Yes                   No   \n",
       "\n",
       "  RegulationShareData AdvocacyIssues             BikePghPosition  \\\n",
       "0                 Yes       Disagree  Neither Support nor Oppose   \n",
       "1                  No        Neutral             Actively Oppose   \n",
       "2            Not sure        Neutral  Neither Support nor Oppose   \n",
       "3                 Yes       Disagree  Neither Support nor Oppose   \n",
       "4            Not sure       Disagree            Actively Support   \n",
       "\n",
       "      PayingAttentionAV FamiliarityTechnoology  ZipCode  \n",
       "0        To some extent      Mostly Unfamiliar  15203.0  \n",
       "1  To a moderate extent      Somewhat familiar  15201.0  \n",
       "2      To little extent      Somewhat familiar  15222.0  \n",
       "3  To a moderate extent      Somewhat familiar  15106.0  \n",
       "4      To little extent      Mostly Unfamiliar  15202.0  \n",
       "\n",
       "[5 rows x 21 columns]"
      ]
     },
     "execution_count": 4,
     "metadata": {},
     "output_type": "execute_result"
    }
   ],
   "source": [
    "# Display the first few rows of the DataFrame\n",
    "bikepghpublic2017.head()"
   ]
  },
  {
   "attachments": {},
   "cell_type": "markdown",
   "metadata": {},
   "source": [
    "Display information on the dataset"
   ]
  },
  {
   "cell_type": "code",
   "execution_count": 5,
   "metadata": {},
   "outputs": [
    {
     "data": {
      "text/html": [
       "<div>\n",
       "<style scoped>\n",
       "    .dataframe tbody tr th:only-of-type {\n",
       "        vertical-align: middle;\n",
       "    }\n",
       "\n",
       "    .dataframe tbody tr th {\n",
       "        vertical-align: top;\n",
       "    }\n",
       "\n",
       "    .dataframe thead th {\n",
       "        text-align: right;\n",
       "    }\n",
       "</style>\n",
       "<table border=\"1\" class=\"dataframe\">\n",
       "  <thead>\n",
       "    <tr style=\"text-align: right;\">\n",
       "      <th></th>\n",
       "      <th>Response ID</th>\n",
       "      <th>CircumstancesCoded</th>\n",
       "      <th>ZipCode</th>\n",
       "    </tr>\n",
       "  </thead>\n",
       "  <tbody>\n",
       "    <tr>\n",
       "      <th>count</th>\n",
       "      <td>8.130000e+02</td>\n",
       "      <td>403.000000</td>\n",
       "      <td>799.000000</td>\n",
       "    </tr>\n",
       "    <tr>\n",
       "      <th>mean</th>\n",
       "      <td>2.605575e+08</td>\n",
       "      <td>2.682382</td>\n",
       "      <td>15440.057572</td>\n",
       "    </tr>\n",
       "    <tr>\n",
       "      <th>std</th>\n",
       "      <td>2.715053e+05</td>\n",
       "      <td>1.792289</td>\n",
       "      <td>4127.398184</td>\n",
       "    </tr>\n",
       "    <tr>\n",
       "      <th>min</th>\n",
       "      <td>2.602790e+08</td>\n",
       "      <td>1.000000</td>\n",
       "      <td>0.000000</td>\n",
       "    </tr>\n",
       "    <tr>\n",
       "      <th>25%</th>\n",
       "      <td>2.603363e+08</td>\n",
       "      <td>2.000000</td>\n",
       "      <td>15206.000000</td>\n",
       "    </tr>\n",
       "    <tr>\n",
       "      <th>50%</th>\n",
       "      <td>2.603790e+08</td>\n",
       "      <td>2.000000</td>\n",
       "      <td>15215.000000</td>\n",
       "    </tr>\n",
       "    <tr>\n",
       "      <th>75%</th>\n",
       "      <td>2.608905e+08</td>\n",
       "      <td>3.000000</td>\n",
       "      <td>15224.000000</td>\n",
       "    </tr>\n",
       "    <tr>\n",
       "      <th>max</th>\n",
       "      <td>2.611574e+08</td>\n",
       "      <td>9.000000</td>\n",
       "      <td>97206.000000</td>\n",
       "    </tr>\n",
       "  </tbody>\n",
       "</table>\n",
       "</div>"
      ],
      "text/plain": [
       "        Response ID  CircumstancesCoded       ZipCode\n",
       "count  8.130000e+02          403.000000    799.000000\n",
       "mean   2.605575e+08            2.682382  15440.057572\n",
       "std    2.715053e+05            1.792289   4127.398184\n",
       "min    2.602790e+08            1.000000      0.000000\n",
       "25%    2.603363e+08            2.000000  15206.000000\n",
       "50%    2.603790e+08            2.000000  15215.000000\n",
       "75%    2.608905e+08            3.000000  15224.000000\n",
       "max    2.611574e+08            9.000000  97206.000000"
      ]
     },
     "execution_count": 5,
     "metadata": {},
     "output_type": "execute_result"
    }
   ],
   "source": [
    "# Summary statistics of the DataFrame\n",
    "bikepghpublic2017.describe()"
   ]
  },
  {
   "cell_type": "code",
   "execution_count": 6,
   "metadata": {},
   "outputs": [
    {
     "name": "stdout",
     "output_type": "stream",
     "text": [
      "<class 'pandas.core.frame.DataFrame'>\n",
      "RangeIndex: 813 entries, 0 to 812\n",
      "Data columns (total 21 columns):\n",
      " #   Column                  Non-Null Count  Dtype  \n",
      "---  ------                  --------------  -----  \n",
      " 0   Response ID             813 non-null    int64  \n",
      " 1   Start Date              813 non-null    object \n",
      " 2   End Date                813 non-null    object \n",
      " 3   Status                  813 non-null    object \n",
      " 4   Source Type             813 non-null    object \n",
      " 5   InteractPedestrian      799 non-null    object \n",
      " 6   InteractBicycle         799 non-null    object \n",
      " 7   CircumstancesCoded      403 non-null    float64\n",
      " 8   FeelingsProvingGround   799 non-null    object \n",
      " 9   SafetyHuman             799 non-null    object \n",
      " 10  SafetyAV                799 non-null    object \n",
      " 11  AVSafetyPotential       799 non-null    object \n",
      " 12  RegulationTesting       799 non-null    object \n",
      " 13  RegulationSpeed         799 non-null    object \n",
      " 14  RegulationSchoolZone    799 non-null    object \n",
      " 15  RegulationShareData     799 non-null    object \n",
      " 16  AdvocacyIssues          793 non-null    object \n",
      " 17  BikePghPosition         799 non-null    object \n",
      " 18  PayingAttentionAV       799 non-null    object \n",
      " 19  FamiliarityTechnoology  799 non-null    object \n",
      " 20  ZipCode                 799 non-null    float64\n",
      "dtypes: float64(2), int64(1), object(18)\n",
      "memory usage: 133.5+ KB\n"
     ]
    }
   ],
   "source": [
    "# Information about DataFrame\n",
    "bikepghpublic2017.info()"
   ]
  },
  {
   "cell_type": "code",
   "execution_count": 7,
   "metadata": {},
   "outputs": [
    {
     "data": {
      "text/plain": [
       "Response ID                 0\n",
       "Start Date                  0\n",
       "End Date                    0\n",
       "Status                      0\n",
       "Source Type                 0\n",
       "InteractPedestrian         14\n",
       "InteractBicycle            14\n",
       "CircumstancesCoded        410\n",
       "FeelingsProvingGround      14\n",
       "SafetyHuman                14\n",
       "SafetyAV                   14\n",
       "AVSafetyPotential          14\n",
       "RegulationTesting          14\n",
       "RegulationSpeed            14\n",
       "RegulationSchoolZone       14\n",
       "RegulationShareData        14\n",
       "AdvocacyIssues             20\n",
       "BikePghPosition            14\n",
       "PayingAttentionAV          14\n",
       "FamiliarityTechnoology     14\n",
       "ZipCode                    14\n",
       "dtype: int64"
      ]
     },
     "execution_count": 7,
     "metadata": {},
     "output_type": "execute_result"
    }
   ],
   "source": [
    "# Count the number of missing values in each column\n",
    "bikepghpublic2017.isnull().sum()"
   ]
  },
  {
   "attachments": {},
   "cell_type": "markdown",
   "metadata": {},
   "source": [
    "Check for duplicate fields"
   ]
  },
  {
   "cell_type": "code",
   "execution_count": 8,
   "metadata": {},
   "outputs": [
    {
     "name": "stdout",
     "output_type": "stream",
     "text": [
      "There are NO duplicates in the bikepublic2017 data\n"
     ]
    }
   ],
   "source": [
    "if bikepghpublic2017.duplicated().any():\n",
    "    print('There are duplicates in the bikepghpublic2017 data')\n",
    "else:\n",
    "    print('There are NO duplicates in the bikepublic2017 data')"
   ]
  },
  {
   "attachments": {},
   "cell_type": "markdown",
   "metadata": {},
   "source": [
    "Display Data Visualizations"
   ]
  },
  {
   "cell_type": "code",
   "execution_count": 9,
   "metadata": {},
   "outputs": [
    {
     "data": {
      "image/png": "[encoded data removed]",
      "text/plain": [
       "<Figure size 432x288 with 1 Axes>"
      ]
     },
     "metadata": {
      "needs_background": "light"
     },
     "output_type": "display_data"
    }
   ],
   "source": [
    "# Display histogram of SafetyAV variable\n",
    "# Surveyed people rank how safe they feel with AVs (1-very unsafe, 5-very safe)\n",
    "safetyav_counts = bikepghpublic2017['SafetyAV'].value_counts()\n",
    "safetyav_sorted_counts = safetyav_counts.sort_values(ascending=True)\n",
    "plt.bar(safetyav_sorted_counts.index, safetyav_sorted_counts)\n",
    "plt.xlabel('SafetyAV')\n",
    "plt.ylabel('Count')\n",
    "plt.title('Safety Outlook on AVs')\n",
    "plt.show()"
   ]
  },
  {
   "cell_type": "code",
   "execution_count": 10,
   "metadata": {},
   "outputs": [
    {
     "data": {
      "text/plain": [
       "SafetyAV\n",
       "1                 50\n",
       "2                 80\n",
       "3                177\n",
       "4                255\n",
       "5                153\n",
       "No experience     84\n",
       "Name: SafetyAV, dtype: int64"
      ]
     },
     "execution_count": 10,
     "metadata": {},
     "output_type": "execute_result"
    }
   ],
   "source": [
    "#Displays count of each response under SafetyAV\n",
    "bikepghpublic2017.groupby('SafetyAV')['SafetyAV'].size()"
   ]
  },
  {
   "cell_type": "code",
   "execution_count": 11,
   "metadata": {},
   "outputs": [
    {
     "data": {
      "image/png": "[encoded data removed]",
      "text/plain": [
       "<Figure size 432x288 with 1 Axes>"
      ]
     },
     "metadata": {
      "needs_background": "light"
     },
     "output_type": "display_data"
    }
   ],
   "source": [
    "# Display histogram of SafetyHuman variable\n",
    "# Surveyed people rank how safe they feel with human-driven cars (1-very unsafe, 5-very safe)\n",
    "safehuman_counts = bikepghpublic2017['SafetyHuman'].value_counts()\n",
    "safehuman_sorted_counts = safehuman_counts.sort_values(ascending=True)\n",
    "plt.bar(safehuman_sorted_counts.index, safehuman_sorted_counts)\n",
    "plt.xlabel('SafetyHuman')\n",
    "plt.ylabel('Count')\n",
    "plt.title('Safety Outlook on Human-Driven Vehicles')\n",
    "plt.show()"
   ]
  },
  {
   "cell_type": "code",
   "execution_count": 12,
   "metadata": {},
   "outputs": [
    {
     "data": {
      "text/plain": [
       "SafetyHuman\n",
       "1                 43\n",
       "2                215\n",
       "3                308\n",
       "4                193\n",
       "5                 34\n",
       "No experience      6\n",
       "Name: SafetyHuman, dtype: int64"
      ]
     },
     "execution_count": 12,
     "metadata": {},
     "output_type": "execute_result"
    }
   ],
   "source": [
    "#Displays count of each response under SafetyHuman\n",
    "bikepghpublic2017.groupby('SafetyHuman')['SafetyHuman'].size()"
   ]
  },
  {
   "cell_type": "code",
   "execution_count": 13,
   "metadata": {},
   "outputs": [
    {
     "data": {
      "image/png": "[encoded data removed]",
      "text/plain": [
       "<Figure size 432x288 with 1 Axes>"
      ]
     },
     "metadata": {
      "needs_background": "light"
     },
     "output_type": "display_data"
    }
   ],
   "source": [
    "# Display histogram of AVSafetyPotential lvariable\n",
    "# Shows outlook on whether AVs have the potential to reduce injuries and fatalities\n",
    "news_counts = bikepghpublic2017['AVSafetyPotential'].value_counts()\n",
    "news_sorted_counts = news_counts.sort_values(ascending=True)\n",
    "plt.bar(news_sorted_counts.index, news_sorted_counts)\n",
    "plt.xticks(rotation=45)\n",
    "plt.xlabel('AVSafetyPotential')\n",
    "plt.ylabel('Count')\n",
    "plt.title('Outlook on AVs Ability to Reduce Injuries/Fatalities')\n",
    "plt.show()"
   ]
  },
  {
   "cell_type": "code",
   "execution_count": 14,
   "metadata": {},
   "outputs": [
    {
     "data": {
      "text/plain": [
       "AVSafetyPotential\n",
       "Maybe       174\n",
       "No           63\n",
       "Not sure     69\n",
       "Yes         493\n",
       "Name: AVSafetyPotential, dtype: int64"
      ]
     },
     "execution_count": 14,
     "metadata": {},
     "output_type": "execute_result"
    }
   ],
   "source": [
    "#Displays count of each response under AVSafetyPotential\n",
    "bikepghpublic2017.groupby('AVSafetyPotential')['AVSafetyPotential'].size()"
   ]
  },
  {
   "cell_type": "code",
   "execution_count": 15,
   "metadata": {},
   "outputs": [
    {
     "data": {
      "image/png": "[encoded data removed]",
      "text/plain": [
       "<Figure size 432x288 with 1 Axes>"
      ]
     },
     "metadata": {
      "needs_background": "light"
     },
     "output_type": "display_data"
    }
   ],
   "source": [
    "# Display histogram of FamiliarityTechnoology variable\n",
    "# Surveyed people share to what extent they're familiar with AV technology\n",
    "tech_counts = bikepghpublic2017['FamiliarityTechnoology'].value_counts()\n",
    "tech_sorted_counts = tech_counts.sort_values(ascending=True)\n",
    "plt.bar(tech_sorted_counts.index, tech_sorted_counts)\n",
    "plt.xticks(rotation=45)\n",
    "plt.xlabel('FamiliarityTechnoology')\n",
    "plt.ylabel('Count')\n",
    "plt.title('Familiarity with AV Technology')\n",
    "plt.show()"
   ]
  },
  {
   "cell_type": "code",
   "execution_count": 16,
   "metadata": {},
   "outputs": [
    {
     "data": {
      "text/plain": [
       "FamiliarityTechnoology\n",
       "Extremely familiar      74\n",
       "Mostly Unfamiliar      165\n",
       "Mostly familiar        170\n",
       "Not familiar at all     54\n",
       "Somewhat familiar      336\n",
       "Name: FamiliarityTechnoology, dtype: int64"
      ]
     },
     "execution_count": 16,
     "metadata": {},
     "output_type": "execute_result"
    }
   ],
   "source": [
    "#Displays count of each response under FamiliarityTechnoology\n",
    "bikepghpublic2017.groupby('FamiliarityTechnoology')['FamiliarityTechnoology'].size()"
   ]
  },
  {
   "cell_type": "code",
   "execution_count": 17,
   "metadata": {},
   "outputs": [
    {
     "data": {
      "image/png": "[encoded data removed]",
      "text/plain": [
       "<Figure size 432x288 with 1 Axes>"
      ]
     },
     "metadata": {
      "needs_background": "light"
     },
     "output_type": "display_data"
    }
   ],
   "source": [
    "# Display histogram of PayingAttentionAV variable\n",
    "# Shows to what extent the people surveyed pay attention to news about AVs\n",
    "news_counts = bikepghpublic2017['PayingAttentionAV'].value_counts()\n",
    "news_sorted_counts = news_counts.sort_values(ascending=True)\n",
    "plt.bar(news_sorted_counts.index, news_sorted_counts)\n",
    "plt.xticks(rotation=45)\n",
    "plt.xlabel('PayingAttentionAV')\n",
    "plt.ylabel('Count')\n",
    "plt.title('Awareness to News About AVs')\n",
    "plt.show()"
   ]
  },
  {
   "cell_type": "code",
   "execution_count": 18,
   "metadata": {},
   "outputs": [
    {
     "data": {
      "text/plain": [
       "PayingAttentionAV\n",
       "Not at all               12\n",
       "To a large extent       208\n",
       "To a moderate extent    261\n",
       "To little extent         78\n",
       "To some extent          240\n",
       "Name: PayingAttentionAV, dtype: int64"
      ]
     },
     "execution_count": 18,
     "metadata": {},
     "output_type": "execute_result"
    }
   ],
   "source": [
    "#Displays count of each response under PayingAttentionAV\n",
    "bikepghpublic2017.groupby('PayingAttentionAV')['PayingAttentionAV'].size()"
   ]
  },
  {
   "attachments": {},
   "cell_type": "markdown",
   "metadata": {},
   "source": [
    "Correlation Data"
   ]
  },
  {
   "cell_type": "code",
   "execution_count": 19,
   "metadata": {},
   "outputs": [
    {
     "name": "stdout",
     "output_type": "stream",
     "text": [
      "Chi-Square Test of Independence between AvSafetyPotential and InteractPedestrian:\n",
      "Chi-square statistic: 17.753718398683787\n",
      "p-value: 0.006878060817184138\n",
      "Chi-Square Test of Independence between AvSafetyPotential and InteractBicycle:\n",
      "Chi-square statistic: 13.983662786207557\n",
      "p-value: 0.029819192970087352\n",
      "Chi-Square Test of Independence between AvSafetyPotential and SafetyHuman:\n",
      "Chi-square statistic: 14.540929459947856\n",
      "p-value: 0.484961461359284\n",
      "Chi-Square Test of Independence between AvSafetyPotential and SafetyAV:\n",
      "Chi-square statistic: 339.10094276311753\n",
      "p-value: 3.984269194143067e-63\n",
      "Chi-Square Test of Independence between AvSafetyPotential and PayingAttentionAV:\n",
      "Chi-square statistic: 82.76657270422899\n",
      "p-value: 1.2212077281265502e-12\n",
      "Chi-Square Test of Independence between AvSafetyPotential and FamiliarityTechnoology:\n",
      "Chi-square statistic: 94.23745665148141\n",
      "p-value: 7.429142771739588e-15\n"
     ]
    },
    {
     "name": "stderr",
     "output_type": "stream",
     "text": [
      "/var/folders/1b/bd7sck5n6f1_0f3x8m3kfr040000gn/T/ipykernel_31429/1739305587.py:5: SettingWithCopyWarning: \n",
      "A value is trying to be set on a copy of a slice from a DataFrame\n",
      "\n",
      "See the caveats in the documentation: https://pandas.pydata.org/pandas-docs/stable/user_guide/indexing.html#returning-a-view-versus-a-copy\n",
      "  df.dropna(inplace=True)\n"
     ]
    }
   ],
   "source": [
    "#Select columns for correlation\n",
    "correlation_cols = ['InteractPedestrian', 'InteractBicycle','SafetyHuman', 'SafetyAV', 'AVSafetyPotential', 'PayingAttentionAV', 'FamiliarityTechnoology']\n",
    "df = bikepghpublic2017[correlation_cols]\n",
    "#Remove entries with missing values\n",
    "df.dropna(inplace=True)\n",
    "categories = ['InteractPedestrian', 'InteractBicycle','SafetyHuman', 'SafetyAV', 'PayingAttentionAV', 'FamiliarityTechnoology']\n",
    "\n",
    "for var in categories:\n",
    "    contingency_table = pd.crosstab(df['AVSafetyPotential'], df[var])\n",
    "    chi2, p_value, _, _= stats.chi2_contingency(contingency_table)\n",
    "    print(f'Chi-Square Test of Independence between AvSafetyPotential and {var}:')\n",
    "    print(f'Chi-square statistic: {chi2}')\n",
    "    print(f'p-value: {p_value}')"
   ]
  }
 ],
 "metadata": {
  "kernelspec": {
   "display_name": "Python 3.9.12 ('base')",
   "language": "python",
   "name": "python3"
  },
  "language_info": {
   "codemirror_mode": {
    "name": "ipython",
    "version": 3
   },
   "file_extension": ".py",
   "mimetype": "text/x-python",
   "name": "python",
   "nbconvert_exporter": "python",
   "pygments_lexer": "ipython3",
   "version": "3.9.12"
  },
  "orig_nbformat": 4,
  "vscode": {
   "interpreter": {
    "hash": "b6d03b160a02bc6190cc4ff94cf13fc7839bd39d9ee05d9b4d380bbb7cc69248"
   }
  }
 },
 "nbformat": 4,
 "nbformat_minor": 2
}
